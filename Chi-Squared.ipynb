{
 "cells": [
  {
   "cell_type": "code",
   "execution_count": 145,
   "metadata": {},
   "outputs": [],
   "source": [
    "import random\n",
    "import numpy as np\n",
    "from scipy import stats\n",
    "from scipy.stats import chisquare"
   ]
  },
  {
   "cell_type": "code",
   "execution_count": 146,
   "metadata": {},
   "outputs": [
    {
     "name": "stdout",
     "output_type": "stream",
     "text": [
      "Power_divergenceResult(statistic=np.float64(22.240000000000002), pvalue=np.float64(0.0004713500068363369))\n",
      "Critical value 11.070497693516351\n"
     ]
    }
   ],
   "source": [
    "f_obs = np.array([35, 52, 47, 71, 62, 33])\n",
    "f_exp = np.array([50, 50, 50, 50, 50, 50])\n",
    "\n",
    "print(chisquare(f_obs=f_obs, f_exp=f_exp))\n",
    "print(\"Critical value \" + str(stats.chi2.ppf(1-0.05, df=5)))\n"
   ]
  },
  {
   "cell_type": "code",
   "execution_count": 147,
   "metadata": {},
   "outputs": [],
   "source": [
    "# Anzahl der Druchläufe\n",
    "runs = 60\n",
    "\n",
    "# Anzahl der Zufallszahlen\n",
    "sam_size = 300\n",
    "# Unteres Ende des Zufallszahlenbereichs\n",
    "sam_rg_low = 1 \n",
    "# Oberes Ende des Zufallszahlenbereichs\n",
    "sam_rg_hig = 6\n",
    "\n",
    "# Chi-Quadrat Beobachtungsgröße\n",
    "cqt_k = 6\n",
    "# Chi-Quadrat Signifikanznivau\n",
    "chiq_sig = 0.1"
   ]
  },
  {
   "cell_type": "code",
   "execution_count": 148,
   "metadata": {},
   "outputs": [],
   "source": [
    "sam_arr = np.empty(sam_size)\n",
    "res_arr_chsq = np.empty([runs, 2])\n"
   ]
  },
  {
   "cell_type": "code",
   "execution_count": 149,
   "metadata": {},
   "outputs": [
    {
     "name": "stdout",
     "output_type": "stream",
     "text": [
      "[50. 50. 50. 50. 50. 50.]\n",
      "from    0.0 to    1.0 :     50.0\n",
      "from    1.0 to    2.0 :     50.0\n",
      "from    2.0 to    3.0 :     50.0\n",
      "from    3.0 to    4.0 :     50.0\n",
      "from    4.0 to    5.0 :     50.0\n",
      "from    5.0 to    6.0 :     50.0\n"
     ]
    }
   ],
   "source": [
    "f_expt = np.empty(cqt_k)\n",
    "for i in range(cqt_k):\n",
    "    f_expt[i] = (sam_size / cqt_k)\n",
    "print(f_expt)\n",
    "\n",
    "for i in range(cqt_k):\n",
    "    print(\"from \" + str((sam_rg_hig/cqt_k) * i).rjust(6, \" \") + \" to \" + str(((sam_rg_hig/cqt_k) * (i+1))).rjust(6, \" \") + \" : \" + str(f_expt[i]).rjust(8, \" \"))"
   ]
  },
  {
   "cell_type": "code",
   "execution_count": 150,
   "metadata": {},
   "outputs": [
    {
     "name": "stdout",
     "output_type": "stream",
     "text": [
      "Chi-Square Run #    0  ||  pvalue= 0.1279545821 > 0.1 and thus NOT statstically significant\n",
      "Chi-Square Run #    1  ||  pvalue= 0.6999858359 > 0.1 and thus NOT statstically significant\n",
      "Chi-Square Run #    2  ||  pvalue= 0.7430578679 > 0.1 and thus NOT statstically significant\n",
      "Chi-Square Run #    3  ||  pvalue= 0.8812557606 > 0.1 and thus NOT statstically significant\n",
      "Chi-Square Run #    4  ||  pvalue= 0.8914097225 > 0.1 and thus NOT statstically significant\n",
      "Chi-Square Run #    5  ||  pvalue= 0.6385699231 > 0.1 and thus NOT statstically significant\n",
      "Chi-Square Run #    6  ||  pvalue=0.015109152139590439  ||  x²(calc)=  14.08 >  critical value: 9.24 thus random number ARE NOT uniformly distributed\n",
      "Exp Dist: [50. 50. 50. 50. 50. 50.]\n",
      "Act Dist: [52. 73. 43. 45. 46. 41.]\n",
      "Chi-Square Run #    7  ||  pvalue= 0.7974156278 > 0.1 and thus NOT statstically significant\n",
      "Chi-Square Run #    8  ||  pvalue=0.017775098332561086  ||  x²(calc)=  13.68 >  critical value: 9.24 thus random number ARE NOT uniformly distributed\n",
      "Exp Dist: [50. 50. 50. 50. 50. 50.]\n",
      "Act Dist: [32. 67. 55. 44. 49. 53.]\n",
      "Chi-Square Run #    9  ||  pvalue= 0.7734800653 > 0.1 and thus NOT statstically significant\n",
      "Chi-Square Run #   10  ||  pvalue= 0.5154044066 > 0.1 and thus NOT statstically significant\n",
      "Chi-Square Run #   11  ||  pvalue= 0.1952135391 > 0.1 and thus NOT statstically significant\n",
      "Chi-Square Run #   12  ||  pvalue= 0.3872979558 > 0.1 and thus NOT statstically significant\n",
      "Chi-Square Run #   13  ||  pvalue=0.009700118865631225  ||  x²(calc)=  15.16 >  critical value: 9.24 thus random number ARE NOT uniformly distributed\n",
      "Exp Dist: [50. 50. 50. 50. 50. 50.]\n",
      "Act Dist: [53. 58. 30. 66. 48. 45.]\n",
      "Chi-Square Run #   14  ||  pvalue= 0.6324852004 > 0.1 and thus NOT statstically significant\n",
      "Chi-Square Run #   15  ||  pvalue= 0.2588540932 > 0.1 and thus NOT statstically significant\n",
      "Chi-Square Run #   16  ||  pvalue= 0.5266175361 > 0.1 and thus NOT statstically significant\n",
      "Chi-Square Run #   17  ||  pvalue=  0.498830518 > 0.1 and thus NOT statstically significant\n",
      "Chi-Square Run #   18  ||  pvalue= 0.2206403079 > 0.1 and thus NOT statstically significant\n",
      "Chi-Square Run #   19  ||  pvalue= 0.3780872816 > 0.1 and thus NOT statstically significant\n",
      "Chi-Square Run #   20  ||  pvalue= 0.8863705284 > 0.1 and thus NOT statstically significant\n",
      "Chi-Square Run #   21  ||  pvalue= 0.8654876905 > 0.1 and thus NOT statstically significant\n",
      "Chi-Square Run #   22  ||  pvalue= 0.2391099942 > 0.1 and thus NOT statstically significant\n",
      "Chi-Square Run #   23  ||  pvalue= 0.6023176521 > 0.1 and thus NOT statstically significant\n",
      "Chi-Square Run #   24  ||  pvalue= 0.5726744598 > 0.1 and thus NOT statstically significant\n",
      "Chi-Square Run #   25  ||  pvalue= 0.4357174133 > 0.1 and thus NOT statstically significant\n",
      "Chi-Square Run #   26  ||  pvalue= 0.8265922828 > 0.1 and thus NOT statstically significant\n",
      "Chi-Square Run #   27  ||  pvalue= 0.6203635579 > 0.1 and thus NOT statstically significant\n",
      "Chi-Square Run #   28  ||  pvalue=  0.669182902 > 0.1 and thus NOT statstically significant\n",
      "Chi-Square Run #   29  ||  pvalue= 0.2297189374 > 0.1 and thus NOT statstically significant\n",
      "Chi-Square Run #   30  ||  pvalue= 0.7914741206 > 0.1 and thus NOT statstically significant\n",
      "Chi-Square Run #   31  ||  pvalue=0.03214774253615793  ||  x²(calc)=   12.2 >  critical value: 9.24 thus random number ARE NOT uniformly distributed\n",
      "Exp Dist: [50. 50. 50. 50. 50. 50.]\n",
      "Act Dist: [67. 54. 56. 40. 38. 45.]\n",
      "Chi-Square Run #   32  ||  pvalue=  0.724636675 > 0.1 and thus NOT statstically significant\n",
      "Chi-Square Run #   33  ||  pvalue= 0.8863705284 > 0.1 and thus NOT statstically significant\n",
      "Chi-Square Run #   34  ||  pvalue= 0.2391099942 > 0.1 and thus NOT statstically significant\n",
      "Chi-Square Run #   35  ||  pvalue= 0.2588540932 > 0.1 and thus NOT statstically significant\n",
      "Chi-Square Run #   36  ||  pvalue= 0.3180711463 > 0.1 and thus NOT statstically significant\n",
      "Chi-Square Run #   37  ||  pvalue= 0.2985122363 > 0.1 and thus NOT statstically significant\n",
      "Chi-Square Run #   38  ||  pvalue= 0.6753340615 > 0.1 and thus NOT statstically significant\n",
      "Chi-Square Run #   39  ||  pvalue= 0.2909601368 > 0.1 and thus NOT statstically significant\n",
      "Chi-Square Run #   40  ||  pvalue= 0.9897613377 > 0.1 and thus NOT statstically significant\n",
      "Chi-Square Run #   41  ||  pvalue= 0.5209949534 > 0.1 and thus NOT statstically significant\n",
      "Chi-Square Run #   42  ||  pvalue= 0.6753340615 > 0.1 and thus NOT statstically significant\n",
      "Chi-Square Run #   43  ||  pvalue=  0.445866581 > 0.1 and thus NOT statstically significant\n",
      "Chi-Square Run #   44  ||  pvalue= 0.3180711463 > 0.1 and thus NOT statstically significant\n",
      "Chi-Square Run #   45  ||  pvalue= 0.8379684711 > 0.1 and thus NOT statstically significant\n",
      "Chi-Square Run #   46  ||  pvalue= 0.8601001587 > 0.1 and thus NOT statstically significant\n",
      "Chi-Square Run #   47  ||  pvalue= 0.2118676481 > 0.1 and thus NOT statstically significant\n",
      "Chi-Square Run #   48  ||  pvalue= 0.9963601018 > 0.1 and thus NOT statstically significant\n",
      "Chi-Square Run #   49  ||  pvalue= 0.1316909829 > 0.1 and thus NOT statstically significant\n",
      "Chi-Square Run #   50  ||  pvalue= 0.2872416834 > 0.1 and thus NOT statstically significant\n",
      "Chi-Square Run #   51  ||  pvalue= 0.1106702993 > 0.1 and thus NOT statstically significant\n",
      "Chi-Square Run #   52  ||  pvalue= 0.3140812776 > 0.1 and thus NOT statstically significant\n",
      "Chi-Square Run #   53  ||  pvalue= 0.9625657732 > 0.1 and thus NOT statstically significant\n",
      "Chi-Square Run #   54  ||  pvalue= 0.2266583282 > 0.1 and thus NOT statstically significant\n",
      "Chi-Square Run #   55  ||  pvalue= 0.1562356276 > 0.1 and thus NOT statstically significant\n",
      "Chi-Square Run #   56  ||  pvalue= 0.7552787515 > 0.1 and thus NOT statstically significant\n",
      "Chi-Square Run #   57  ||  pvalue= 0.4509979995 > 0.1 and thus NOT statstically significant\n",
      "Chi-Square Run #   58  ||  pvalue= 0.8654876905 > 0.1 and thus NOT statstically significant\n",
      "Chi-Square Run #   59  ||  pvalue=0.07753400636438573  ||  x²(calc)=   9.92 >  critical value: 9.24 thus random number ARE NOT uniformly distributed\n",
      "Exp Dist: [50. 50. 50. 50. 50. 50.]\n",
      "Act Dist: [45. 65. 54. 55. 37. 44.]\n"
     ]
    }
   ],
   "source": [
    "# Random Number Generator\n",
    "\n",
    "for i in range(runs):\n",
    "    random.seed(i)\n",
    "    for j in range(sam_size):\n",
    "        sam_arr[j] = random.SystemRandom().randint(sam_rg_low, sam_rg_hig)\n",
    "        #sam_arr[j] = random.randrange(sam_rg_low, (sam_rg_hig+1))\n",
    "        #print(sam_arr[j])\n",
    "        \n",
    "    sam_cls_counts = np.empty(cqt_k)\n",
    "    #print(\"Number of Clusters \" + str(sam_cls_counts.size))\n",
    "    \n",
    "    counter = 0\n",
    "    for k in range(0, cqt_k):\n",
    "        tmp_arr = np.where(((sam_arr > (sam_rg_hig/cqt_k * k)) & (sam_arr <= (sam_rg_hig/cqt_k * (k+1)))), sam_arr, 0)\n",
    "        tmp_arr = tmp_arr[tmp_arr!=0]\n",
    "        sam_cls_counts[k] = tmp_arr.size\n",
    "        counter = counter + sam_cls_counts[k]\n",
    "        #print(\"> \" + str((sam_rg_hig/cqt_k) * k).rjust(3, \" \") + \" <= \" + str((sam_rg_hig/cqt_k) * (k+1)).rjust(3, \" \") + \" : \" + str(sam_cls_counts[k]).rjust(3, \" \"))\n",
    "        #print(tmp_arr)\n",
    "    #print(f_expt)\n",
    "    #print(sam_cls_counts)\n",
    "    #print(counter)\n",
    "\n",
    "    #print(sam_cls_counts)\n",
    "    #print(f_expt)\n",
    "    res_arr_chsq[i, :] = chisquare(f_obs=sam_cls_counts, f_exp=f_expt)\n",
    "    cri_value = stats.chi2.ppf(1-chiq_sig, df=(cqt_k-1))\n",
    "    if res_arr_chsq[i, 1] > chiq_sig:\n",
    "        print(\"Chi-Square Run # \" + str(i).rjust(4, \" \") + \n",
    "              \"  ||  pvalue=\" + str(round(res_arr_chsq[i, 1], 10)).rjust(13, \" \") +\n",
    "              \" > \" + str(chiq_sig) + \" and thus NOT statstically significant\")\n",
    "    else:\n",
    "        if res_arr_chsq[i, 0] > cri_value:\n",
    "            print(\"Chi-Square Run # \" + str(i).rjust(4, \" \") + \n",
    "                  \"  ||  pvalue=\" + str(res_arr_chsq[i, 1]).rjust(13, \" \") + \n",
    "                  \"  ||  x²(calc)=\"+ str(round(res_arr_chsq[i, 0], 7)).rjust(7, \" \") + \" > \"\n",
    "                  \" critical value: \" + str(round(cri_value, 2)).rjust(3, \" \") + \n",
    "                  \" thus random number ARE NOT uniformly distributed\")\n",
    "            print(\"Exp Dist: \" + str(f_expt))\n",
    "            print(\"Act Dist: \" + str(sam_cls_counts))\n",
    "        else:\n",
    "            print(\"Chi-Square Run # \" + str(i).rjust(4, \" \") + \n",
    "                  \"  ||  pvalue=\" + str(res_arr_chsq[i, 1]).rjust(13, \" \") + \n",
    "                  \"  ||  x²(calc)=\"+ str(round(res_arr_chsq[i, 0], 7)).rjust(7, \" \") + \" > \"\n",
    "                  \" critical value: \" + str(round(cri_value, 2)).rjust(3, \" \") + \n",
    "                  \" thus random numbers ARE uniformly distributed\")\n",
    " "
   ]
  }
 ],
 "metadata": {
  "kernelspec": {
   "display_name": "ML01",
   "language": "python",
   "name": "python3"
  },
  "language_info": {
   "codemirror_mode": {
    "name": "ipython",
    "version": 3
   },
   "file_extension": ".py",
   "mimetype": "text/x-python",
   "name": "python",
   "nbconvert_exporter": "python",
   "pygments_lexer": "ipython3",
   "version": "3.12.4"
  }
 },
 "nbformat": 4,
 "nbformat_minor": 2
}
