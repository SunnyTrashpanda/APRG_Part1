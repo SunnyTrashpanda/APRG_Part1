{
 "cells": [
  {
   "cell_type": "code",
   "execution_count": 3,
   "metadata": {},
   "outputs": [],
   "source": [
    "import random\n",
    "import numpy as np\n",
    "from scipy import stats\n",
    "from scipy.stats import chisquare"
   ]
  },
  {
   "cell_type": "code",
   "execution_count": 4,
   "metadata": {},
   "outputs": [
    {
     "name": "stdout",
     "output_type": "stream",
     "text": [
      "Statistic Value: 22.240000000000002\n",
      "P-Value:0.0004713500068363369\n",
      "Critical value 11.070497693516351\n"
     ]
    }
   ],
   "source": [
    "f_obs = np.array([35, 52, 47, 71, 62, 33]) ## Generierte Augenzahlwürfe \n",
    "f_exp = np.array([50, 50, 50, 50, 50, 50]) ## Erwartete Augenahlwürfe\n",
    "\n",
    "statistic, pvalue = chisquare(f_obs=f_obs, f_exp=f_exp)\n",
    "print(\"Statistic Value: \" + str(statistic))\n",
    "print(\"P-Value:\" + str(pvalue))\n",
    "print(\"Critical value \" + str(stats.chi2.ppf(1-0.05, df=5)))"
   ]
  },
  {
   "cell_type": "code",
   "execution_count": 5,
   "metadata": {},
   "outputs": [],
   "source": [
    "# Anzahl der Druchläufe\n",
    "runs = 60\n",
    "\n",
    "# Anzahl der Zufallszahlen\n",
    "sam_size = 300\n",
    "# Unteres Ende des Zufallszahlenbereichs\n",
    "sam_rg_low = 1 \n",
    "# Oberes Ende des Zufallszahlenbereichs\n",
    "sam_rg_hig = 6\n",
    "\n",
    "# Chi-Quadrat Beobachtungsgröße\n",
    "cqt_k = 6\n",
    "# Chi-Quadrat Signifikanznivau\n",
    "chiq_sig = 0.1"
   ]
  },
  {
   "cell_type": "code",
   "execution_count": 6,
   "metadata": {},
   "outputs": [],
   "source": [
    "sam_arr = np.empty(sam_size)\n",
    "res_arr_chsq = np.empty([runs, 2])\n"
   ]
  },
  {
   "cell_type": "code",
   "execution_count": 7,
   "metadata": {},
   "outputs": [
    {
     "name": "stdout",
     "output_type": "stream",
     "text": [
      "[50. 50. 50. 50. 50. 50.]\n",
      "from    0.0 to    1.0 :     50.0\n",
      "from    1.0 to    2.0 :     50.0\n",
      "from    2.0 to    3.0 :     50.0\n",
      "from    3.0 to    4.0 :     50.0\n",
      "from    4.0 to    5.0 :     50.0\n",
      "from    5.0 to    6.0 :     50.0\n"
     ]
    }
   ],
   "source": [
    "f_expt = np.empty(cqt_k)\n",
    "for i in range(cqt_k):\n",
    "    f_expt[i] = (sam_size / cqt_k)\n",
    "print(f_expt)\n",
    "\n",
    "for i in range(cqt_k):\n",
    "    print(\"from \" + str((sam_rg_hig/cqt_k) * i).rjust(6, \" \") + \" to \" + str(((sam_rg_hig/cqt_k) * (i+1))).rjust(6, \" \") + \" : \" + str(f_expt[i]).rjust(8, \" \"))"
   ]
  },
  {
   "cell_type": "code",
   "execution_count": 8,
   "metadata": {},
   "outputs": [
    {
     "name": "stdout",
     "output_type": "stream",
     "text": [
      "Chi-Square Run #    0  ||  pvalue= 0.6814914499 > 0.1 and thus NOT statstically significant\n",
      "Chi-Square Run #    1  ||  pvalue=0.04905196907853454  ||  x²(calc)=  11.12 >  critical value: 9.24 thus random number ARE NOT uniformly distributed\n",
      "Exp Dist: [50. 50. 50. 50. 50. 50.]\n",
      "Act Dist: [57. 44. 60. 37. 41. 61.]\n",
      "Chi-Square Run #    2  ||  pvalue= 0.2266583282 > 0.1 and thus NOT statstically significant\n",
      "Chi-Square Run #    3  ||  pvalue=  0.504321661 > 0.1 and thus NOT statstically significant\n",
      "Chi-Square Run #    4  ||  pvalue=0.0019221368209430397  ||  x²(calc)=   19.0 >  critical value: 9.24 thus random number ARE NOT uniformly distributed\n",
      "Exp Dist: [50. 50. 50. 50. 50. 50.]\n",
      "Act Dist: [60. 33. 72. 45. 44. 46.]\n",
      "Chi-Square Run #    5  ||  pvalue= 0.6999858359 > 0.1 and thus NOT statstically significant\n",
      "Chi-Square Run #    6  ||  pvalue= 0.8914097225 > 0.1 and thus NOT statstically significant\n",
      "Chi-Square Run #    7  ||  pvalue= 0.2799191689 > 0.1 and thus NOT statstically significant\n",
      "Chi-Square Run #    8  ||  pvalue= 0.1476353739 > 0.1 and thus NOT statstically significant\n",
      "Chi-Square Run #    9  ||  pvalue= 0.5785552914 > 0.1 and thus NOT statstically significant\n",
      "Chi-Square Run #   10  ||  pvalue= 0.5322715614 > 0.1 and thus NOT statstically significant\n",
      "Chi-Square Run #   11  ||  pvalue= 0.5209949534 > 0.1 and thus NOT statstically significant\n",
      "Chi-Square Run #   12  ||  pvalue= 0.6999858359 > 0.1 and thus NOT statstically significant\n",
      "Chi-Square Run #   13  ||  pvalue= 0.5903904978 > 0.1 and thus NOT statstically significant\n",
      "Chi-Square Run #   14  ||  pvalue= 0.7123180401 > 0.1 and thus NOT statstically significant\n",
      "Chi-Square Run #   15  ||  pvalue= 0.5436714313 > 0.1 and thus NOT statstically significant\n",
      "Chi-Square Run #   16  ||  pvalue=  0.693818895 > 0.1 and thus NOT statstically significant\n",
      "Chi-Square Run #   17  ||  pvalue= 0.9795142086 > 0.1 and thus NOT statstically significant\n",
      "Chi-Square Run #   18  ||  pvalue= 0.8379684711 > 0.1 and thus NOT statstically significant\n",
      "Chi-Square Run #   19  ||  pvalue= 0.3302768085 > 0.1 and thus NOT statstically significant\n",
      "Chi-Square Run #   20  ||  pvalue= 0.7613652678 > 0.1 and thus NOT statstically significant\n",
      "Chi-Square Run #   21  ||  pvalue=0.026996348942945912  ||  x²(calc)=  12.64 >  critical value: 9.24 thus random number ARE NOT uniformly distributed\n",
      "Exp Dist: [50. 50. 50. 50. 50. 50.]\n",
      "Act Dist: [39. 71. 43. 46. 52. 49.]\n",
      "Chi-Square Run #   22  ||  pvalue=  0.187318407 > 0.1 and thus NOT statstically significant\n",
      "Chi-Square Run #   23  ||  pvalue= 0.9409828342 > 0.1 and thus NOT statstically significant\n",
      "Chi-Square Run #   24  ||  pvalue=0.03424377982555154  ||  x²(calc)=  12.04 >  critical value: 9.24 thus random number ARE NOT uniformly distributed\n",
      "Exp Dist: [50. 50. 50. 50. 50. 50.]\n",
      "Act Dist: [38. 57. 35. 56. 62. 52.]\n",
      "Chi-Square Run #   25  ||  pvalue=  0.445866581 > 0.1 and thus NOT statstically significant\n",
      "Chi-Square Run #   26  ||  pvalue= 0.7674330803 > 0.1 and thus NOT statstically significant\n",
      "Chi-Square Run #   27  ||  pvalue=0.07870767900764765  ||  x²(calc)=   9.88 >  critical value: 9.24 thus random number ARE NOT uniformly distributed\n",
      "Exp Dist: [50. 50. 50. 50. 50. 50.]\n",
      "Act Dist: [61. 40. 61. 48. 52. 38.]\n",
      "Chi-Square Run #   28  ||  pvalue= 0.3780872816 > 0.1 and thus NOT statstically significant\n",
      "Chi-Square Run #   29  ||  pvalue= 0.5668192987 > 0.1 and thus NOT statstically significant\n",
      "Chi-Square Run #   30  ||  pvalue= 0.6507811114 > 0.1 and thus NOT statstically significant\n",
      "Chi-Square Run #   31  ||  pvalue= 0.3471050683 > 0.1 and thus NOT statstically significant\n",
      "Chi-Square Run #   32  ||  pvalue= 0.7307864866 > 0.1 and thus NOT statstically significant\n",
      "Chi-Square Run #   33  ||  pvalue= 0.9409828342 > 0.1 and thus NOT statstically significant\n",
      "Chi-Square Run #   34  ||  pvalue= 0.5551892642 > 0.1 and thus NOT statstically significant\n",
      "Chi-Square Run #   35  ||  pvalue=  0.415880187 > 0.1 and thus NOT statstically significant\n",
      "Chi-Square Run #   36  ||  pvalue= 0.3344243602 > 0.1 and thus NOT statstically significant\n",
      "Chi-Square Run #   37  ||  pvalue= 0.1497450176 > 0.1 and thus NOT statstically significant\n",
      "Chi-Square Run #   38  ||  pvalue= 0.7123180401 > 0.1 and thus NOT statstically significant\n",
      "Chi-Square Run #   39  ||  pvalue= 0.9592754057 > 0.1 and thus NOT statstically significant\n",
      "Chi-Square Run #   40  ||  pvalue=0.05464623759716285  ||  x²(calc)=  10.84 >  critical value: 9.24 thus random number ARE NOT uniformly distributed\n",
      "Exp Dist: [50. 50. 50. 50. 50. 50.]\n",
      "Act Dist: [54. 48. 66. 54. 37. 41.]\n",
      "Chi-Square Run #   41  ||  pvalue=0.04905196907853453  ||  x²(calc)=  11.12 >  critical value: 9.24 thus random number ARE NOT uniformly distributed\n",
      "Exp Dist: [50. 50. 50. 50. 50. 50.]\n",
      "Act Dist: [54. 53. 43. 65. 34. 51.]\n",
      "Chi-Square Run #   42  ||  pvalue=0.05722304231885017  ||  x²(calc)=  10.72 >  critical value: 9.24 thus random number ARE NOT uniformly distributed\n",
      "Exp Dist: [50. 50. 50. 50. 50. 50.]\n",
      "Act Dist: [38. 45. 64. 59. 41. 53.]\n",
      "Chi-Square Run #   43  ||  pvalue= 0.9716526371 > 0.1 and thus NOT statstically significant\n",
      "Chi-Square Run #   44  ||  pvalue= 0.9770333438 > 0.1 and thus NOT statstically significant\n",
      "Chi-Square Run #   45  ||  pvalue= 0.9012493445 > 0.1 and thus NOT statstically significant\n",
      "Chi-Square Run #   46  ||  pvalue= 0.6143289485 > 0.1 and thus NOT statstically significant\n",
      "Chi-Square Run #   47  ||  pvalue=0.046102503951198026  ||  x²(calc)=  11.28 >  critical value: 9.24 thus random number ARE NOT uniformly distributed\n",
      "Exp Dist: [50. 50. 50. 50. 50. 50.]\n",
      "Act Dist: [49. 52. 45. 37. 48. 69.]\n",
      "Chi-Square Run #   48  ||  pvalue= 0.8863705284 > 0.1 and thus NOT statstically significant\n",
      "Chi-Square Run #   49  ||  pvalue= 0.6264160207 > 0.1 and thus NOT statstically significant\n",
      "Chi-Square Run #   50  ||  pvalue= 0.5436714313 > 0.1 and thus NOT statstically significant\n",
      "Chi-Square Run #   51  ||  pvalue= 0.9625657732 > 0.1 and thus NOT statstically significant\n",
      "Chi-Square Run #   52  ||  pvalue= 0.5726744598 > 0.1 and thus NOT statstically significant\n",
      "Chi-Square Run #   53  ||  pvalue= 0.7369275148 > 0.1 and thus NOT statstically significant\n",
      "Chi-Square Run #   54  ||  pvalue= 0.3690358696 > 0.1 and thus NOT statstically significant\n",
      "Chi-Square Run #   55  ||  pvalue= 0.6324852004 > 0.1 and thus NOT statstically significant\n",
      "Chi-Square Run #   56  ||  pvalue=  0.944877365 > 0.1 and thus NOT statstically significant\n",
      "Chi-Square Run #   57  ||  pvalue= 0.3645699628 > 0.1 and thus NOT statstically significant\n",
      "Chi-Square Run #   58  ||  pvalue= 0.3180711463 > 0.1 and thus NOT statstically significant\n",
      "Chi-Square Run #   59  ||  pvalue= 0.7307864866 > 0.1 and thus NOT statstically significant\n"
     ]
    }
   ],
   "source": [
    "# Random Number Generator\n",
    "\n",
    "for i in range(runs):\n",
    "    random.seed(i)\n",
    "    for j in range(sam_size):\n",
    "        sam_arr[j] = random.SystemRandom().randint(sam_rg_low, sam_rg_hig)\n",
    "        #sam_arr[j] = random.randrange(sam_rg_low, (sam_rg_hig+1))\n",
    "        #print(sam_arr[j])\n",
    "        \n",
    "    sam_cls_counts = np.empty(cqt_k)\n",
    "    #print(\"Number of Clusters \" + str(sam_cls_counts.size))\n",
    "    \n",
    "    counter = 0\n",
    "    for k in range(0, cqt_k):\n",
    "        tmp_arr = np.where(((sam_arr > (sam_rg_hig/cqt_k * k)) & (sam_arr <= (sam_rg_hig/cqt_k * (k+1)))), sam_arr, 0)\n",
    "        tmp_arr = tmp_arr[tmp_arr!=0]\n",
    "        sam_cls_counts[k] = tmp_arr.size\n",
    "        counter = counter + sam_cls_counts[k]\n",
    "        #print(\"> \" + str((sam_rg_hig/cqt_k) * k).rjust(3, \" \") + \" <= \" + str((sam_rg_hig/cqt_k) * (k+1)).rjust(3, \" \") + \" : \" + str(sam_cls_counts[k]).rjust(3, \" \"))\n",
    "        #print(tmp_arr)\n",
    "    #print(f_expt)\n",
    "    #print(sam_cls_counts)\n",
    "    #print(counter)\n",
    "\n",
    "    #print(sam_cls_counts)\n",
    "    #print(f_expt)\n",
    "    res_arr_chsq[i, :] = chisquare(f_obs=sam_cls_counts, f_exp=f_expt)\n",
    "    cri_value = stats.chi2.ppf(1-chiq_sig, df=(cqt_k-1))\n",
    "    if res_arr_chsq[i, 1] > chiq_sig:\n",
    "        print(\"Chi-Square Run # \" + str(i).rjust(4, \" \") + \n",
    "              \"  ||  pvalue=\" + str(round(res_arr_chsq[i, 1], 10)).rjust(13, \" \") +\n",
    "              \" > \" + str(chiq_sig) + \" and thus NOT statstically significant\")\n",
    "    else:\n",
    "        if res_arr_chsq[i, 0] > cri_value:\n",
    "            print(\"Chi-Square Run # \" + str(i).rjust(4, \" \") + \n",
    "                  \"  ||  pvalue=\" + str(res_arr_chsq[i, 1]).rjust(13, \" \") + \n",
    "                  \"  ||  x²(calc)=\"+ str(round(res_arr_chsq[i, 0], 7)).rjust(7, \" \") + \" > \"\n",
    "                  \" critical value: \" + str(round(cri_value, 2)).rjust(3, \" \") + \n",
    "                  \" thus random number ARE NOT uniformly distributed\")\n",
    "            print(\"Exp Dist: \" + str(f_expt))\n",
    "            print(\"Act Dist: \" + str(sam_cls_counts))\n",
    "        else:\n",
    "            print(\"Chi-Square Run # \" + str(i).rjust(4, \" \") + \n",
    "                  \"  ||  pvalue=\" + str(res_arr_chsq[i, 1]).rjust(13, \" \") + \n",
    "                  \"  ||  x²(calc)=\"+ str(round(res_arr_chsq[i, 0], 7)).rjust(7, \" \") + \" > \"\n",
    "                  \" critical value: \" + str(round(cri_value, 2)).rjust(3, \" \") + \n",
    "                  \" thus random numbers ARE uniformly distributed\")\n",
    " "
   ]
  }
 ],
 "metadata": {
  "kernelspec": {
   "display_name": "ML01",
   "language": "python",
   "name": "python3"
  },
  "language_info": {
   "codemirror_mode": {
    "name": "ipython",
    "version": 3
   },
   "file_extension": ".py",
   "mimetype": "text/x-python",
   "name": "python",
   "nbconvert_exporter": "python",
   "pygments_lexer": "ipython3",
   "version": "3.12.4"
  }
 },
 "nbformat": 4,
 "nbformat_minor": 2
}
